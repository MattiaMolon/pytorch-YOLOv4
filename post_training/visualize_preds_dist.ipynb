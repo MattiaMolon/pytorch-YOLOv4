{
 "metadata": {
  "language_info": {
   "codemirror_mode": {
    "name": "ipython",
    "version": 3
   },
   "file_extension": ".py",
   "mimetype": "text/x-python",
   "name": "python",
   "nbconvert_exporter": "python",
   "pygments_lexer": "ipython3",
   "version": "3.8.5"
  },
  "orig_nbformat": 2,
  "kernelspec": {
   "name": "pythonjvsc74a57bd04e0858098b971b6a13f714418cf0db8978f6878bdac17da64902c6b3977ed784",
   "display_name": "Python 3.8.5  ('.master_thesis_venv': venv)"
  },
  "metadata": {
   "interpreter": {
    "hash": "4e0858098b971b6a13f714418cf0db8978f6878bdac17da64902c6b3977ed784"
   }
  }
 },
 "nbformat": 4,
 "nbformat_minor": 2,
 "cells": [
  {
   "cell_type": "code",
   "execution_count": 2,
   "metadata": {},
   "outputs": [],
   "source": [
    "import sys\n",
    "import os\n",
    "\n",
    "sys.path.insert(0, os.path.abspath(\"..\"))\n",
    "\n",
    "import torch\n",
    "from tool.darknet2pytorch import Darknet\n",
    "import cv2\n",
    "import matplotlib.pyplot as plt\n",
    "import numpy as np\n",
    "import pandas as pd\n",
    "from cfg.train.cfg_yolov4_BEV_dist_nuScenes import Cfg as cfg\n",
    "\n",
    "# check for cuda\n",
    "if torch.cuda.is_available():\n",
    "    device = \"cuda\"\n",
    "else:\n",
    "    device = \"cpu\"\n",
    "\n",
    "# params\n",
    "cfg.weights = \"../checkpoints/area_focalloss_alpha50_gamma6/Yolo_BEV_area_nuScenes_epoch37__BESTSOFAR.pth\"\n",
    "cfg.dataset_dir = \"../../data/nuScenes/\"\n",
    "cfg.cfgfile = \"../cfg/model/yolov4_BEV_dist_nuScenes.cfg\"\n",
    "is_area = True\n",
    "\n",
    "img_paths = []\n",
    "with open(os.path.join(cfg.dataset_dir, \"splits\", \"test_split.txt\")) as f:\n",
    "    for line in f:\n",
    "        img_paths.append(line.strip())\n",
    "if is_area:\n",
    "    area_paths = []\n",
    "    with open(os.path.join(cfg.dataset_dir, \"splits\", \"test_areas.txt\")) as f:\n",
    "        for line in f:\n",
    "            area_paths.append(line.strip())"
   ]
  },
  {
   "cell_type": "code",
   "execution_count": 3,
   "metadata": {},
   "outputs": [
    {
     "output_type": "stream",
     "name": "stdout",
     "text": [
      "Done\n"
     ]
    }
   ],
   "source": [
    "# remove \"model\" bug from parallel GPU training\n",
    "state_dict = torch.load(cfg.weights, map_location=torch.device(device))\n",
    "if \"module\" in list(state_dict.keys())[0]:\n",
    "    state_dict_tmp = {}\n",
    "    for k in state_dict.keys():\n",
    "        state_dict_tmp[k[7:]] = state_dict[k]\n",
    "    state_dict = state_dict_tmp\n",
    "\n",
    "# model\n",
    "m = Darknet(cfg.cfgfile, model_type=\"BEV_dist\")\n",
    "m.load_state_dict(state_dict)\n",
    "if torch.cuda.device_count() > 1:\n",
    "    m = torch.nn.DataParallel(m)\n",
    "m.to(device)\n",
    "m.eval()\n",
    "print(\"Done\")"
   ]
  },
  {
   "cell_type": "code",
   "execution_count": 4,
   "metadata": {},
   "outputs": [
    {
     "output_type": "error",
     "ename": "IndexError",
     "evalue": "list index out of range",
     "traceback": [
      "\u001b[0;31m---------------------------------------------------------------------------\u001b[0m",
      "\u001b[0;31mIndexError\u001b[0m                                Traceback (most recent call last)",
      "\u001b[0;32m<ipython-input-4-8e3173872441>\u001b[0m in \u001b[0;36m<module>\u001b[0;34m\u001b[0m\n\u001b[1;32m      4\u001b[0m \u001b[0;31m# 2554 8000 1465 646\u001b[0m\u001b[0;34m\u001b[0m\u001b[0;34m\u001b[0m\u001b[0;34m\u001b[0m\u001b[0m\n\u001b[1;32m      5\u001b[0m \u001b[0;34m\u001b[0m\u001b[0m\n\u001b[0;32m----> 6\u001b[0;31m \u001b[0mimg_path\u001b[0m \u001b[0;34m=\u001b[0m \u001b[0mimg_paths\u001b[0m\u001b[0;34m[\u001b[0m\u001b[0mid\u001b[0m\u001b[0;34m]\u001b[0m\u001b[0;34m\u001b[0m\u001b[0;34m\u001b[0m\u001b[0m\n\u001b[0m\u001b[1;32m      7\u001b[0m \u001b[0mprint\u001b[0m\u001b[0;34m(\u001b[0m\u001b[0mimg_path\u001b[0m\u001b[0;34m)\u001b[0m\u001b[0;34m\u001b[0m\u001b[0;34m\u001b[0m\u001b[0m\n\u001b[1;32m      8\u001b[0m \u001b[0;34m\u001b[0m\u001b[0m\n",
      "\u001b[0;31mIndexError\u001b[0m: list index out of range"
     ]
    }
   ],
   "source": [
    "id = 1998 # max 8964\n",
    "threshold = 0.605\n",
    "\n",
    "# 2554 8000 1465 646 \n",
    "\n",
    "img_path = img_paths[id]  \n",
    "print(img_path)\n",
    "\n",
    "############# img retrieval\n",
    "img = cv2.imread(img_paths[id])\n",
    "img = cv2.cvtColor(img, cv2.COLOR_BGR2RGB).astype(np.float)\n",
    "img /= 255.0\n",
    "img = cv2.resize(img, (cfg.width, cfg.height))\n",
    "\n",
    "############# get predictions\n",
    "img_t = torch.Tensor(np.expand_dims(img.transpose(2,0,1), 0))\n",
    "pred = m(img_t)\n",
    "pred = pred.detach().cpu().numpy()\n",
    "pred = pred.transpose().squeeze()\n",
    "pred = np.where(pred >= threshold, pred, 0.)\n",
    "\n",
    "############# label retrieval\n",
    "if is_area :\n",
    "    target = np.load(area_paths[id]).transpose()\n",
    "\n",
    "else:\n",
    "    img_name = img_path.split(\"/\")[-2] + \"/\" + img_path.strip().split(\"/\")[-1]\n",
    "    column_types = {\"ID\": str, \"alpha\": float, \"3D_d\": float, \"3D_l\": float, \"3D_w\": float, \"cos\": float, \"sin\": float, \"type\": str}\n",
    "    df = pd.read_csv(os.path.join(cfg.dataset_dir, \"splits\", \"test_split.csv\"), dtype=column_types)\n",
    "    df = df[df[\"ID\"] == img_name]\n",
    "    df[\"alpha\"] += (pred.shape[1] * cfg.cell_angle) / 2   \n",
    "\n",
    "    target = np.zeros(pred.shape)\n",
    "    if not df.empty:\n",
    "        labels = df[[\"alpha\", \"3D_d\"]]\n",
    "        for i, label in labels.iterrows():\n",
    "            angle_i = int(label[\"alpha\"] // cfg.cell_angle)\n",
    "            distance_i = int(label[\"3D_d\"] // cfg.cell_depth)\n",
    "            target[distance_i, angle_i] = 1.0\n",
    "\n",
    "############## visualization\n",
    "f, axes = plt.subplots(3,1,figsize=(15,15))\n",
    "axes[0].imshow(img)\n",
    "axes[1].imshow(target, origin=\"lower\")\n",
    "axes[2].imshow(pred, origin=\"lower\")"
   ]
  }
 ]
}